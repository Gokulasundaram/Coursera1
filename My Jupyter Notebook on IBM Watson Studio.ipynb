{
 "cells": [
  {
   "cell_type": "markdown",
   "id": "43d47372-244e-4d3a-8d14-56800b344737",
   "metadata": {},
   "source": [
    "# My Jupyter Notebook on IBM Watson Studio"
   ]
  },
  {
   "cell_type": "markdown",
   "id": "49fa41f5-07cb-4946-8e5e-5143a2787280",
   "metadata": {},
   "source": [
    "**Gokul** \n",
    "\n",
    "Engineer"
   ]
  },
  {
   "cell_type": "markdown",
   "id": "1e232447-93dd-42f3-ba08-57ec502e1836",
   "metadata": {},
   "source": [
    "*\"I am interested in data science because I like analysis and povide solutions from that\"*"
   ]
  },
  {
   "cell_type": "markdown",
   "id": "b366f8ba-73cf-48b0-82aa-7a171b76d35b",
   "metadata": {},
   "source": [
    "### In Cell 5 I'm going to do math function"
   ]
  },
  {
   "cell_type": "code",
   "execution_count": 11,
   "id": "5cfcdc4a-2277-4672-ae69-38c9b9c562ec",
   "metadata": {},
   "outputs": [
    {
     "data": {
      "text/plain": [
       "2"
      ]
     },
     "execution_count": 11,
     "metadata": {},
     "output_type": "execute_result"
    }
   ],
   "source": [
    "1+1"
   ]
  },
  {
   "cell_type": "markdown",
   "id": "04f0d6e1-96b8-461d-98b0-0dd64b0fd82b",
   "metadata": {},
   "source": [
    "* bullet1\n",
    "* Bullet2\n",
    "\n",
    "1. item1\n",
    "2. num2ysc\n",
    "3. num323"
   ]
  }
 ],
 "metadata": {
  "kernelspec": {
   "display_name": "Python",
   "language": "python",
   "name": "conda-env-python-py"
  },
  "language_info": {
   "codemirror_mode": {
    "name": "ipython",
    "version": 3
   },
   "file_extension": ".py",
   "mimetype": "text/x-python",
   "name": "python",
   "nbconvert_exporter": "python",
   "pygments_lexer": "ipython3",
   "version": "3.7.12"
  }
 },
 "nbformat": 4,
 "nbformat_minor": 5
}
